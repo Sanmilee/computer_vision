{
 "cells": [
  {
   "cell_type": "markdown",
   "metadata": {},
   "source": [
    "## Traffic-Net dataset. \n",
    "\n",
    "Contains 4,400 images of 4 classes (1,100 images each):\n",
    "\n",
    "\n",
    "Accident\n",
    "\n",
    "Dense Traffic\n",
    "\n",
    "Fire\n",
    "\n",
    "Sparse Traffic\n",
    "\n",
    "dataset available for download at:\n",
    "https://github.com/OlafenwaMoses/Traffic-Net/releases/tag/1.0"
   ]
  },
  {
   "cell_type": "code",
   "execution_count": 2,
   "metadata": {},
   "outputs": [],
   "source": [
    "import numpy as np\n",
    "\n",
    "import keras\n",
    "from keras.preprocessing.image import ImageDataGenerator\n",
    "from keras.models import Sequential\n",
    "from keras.layers import Dense, Dropout, Flatten\n",
    "from keras.layers import Conv2D, MaxPooling2D, Activation\n",
    "from keras.layers.normalization import BatchNormalization\n",
    "import matplotlib.pyplot as plt\n",
    "\n",
    "from sklearn.metrics import classification_report, confusion_matrix"
   ]
  },
  {
   "cell_type": "code",
   "execution_count": 3,
   "metadata": {},
   "outputs": [],
   "source": [
    "batch_size = 32\n",
    "num_of_train_samples = 3200\n",
    "num_of_test_samples = 1200\n"
   ]
  },
  {
   "cell_type": "code",
   "execution_count": 4,
   "metadata": {},
   "outputs": [
    {
     "name": "stdout",
     "output_type": "stream",
     "text": [
      "Found 3200 images belonging to 4 classes.\n",
      "Found 1200 images belonging to 4 classes.\n"
     ]
    }
   ],
   "source": [
    "\n",
    "train_datagen = ImageDataGenerator(rescale=1./255,\n",
    "                                   shear_range=0.2,\n",
    "                                   zoom_range=0.2,\n",
    "                                   rotation_range=15,\n",
    "                                   width_shift_range=0.2,\n",
    "                                   height_shift_range=0.2,\n",
    "                                   fill_mode='reflect',\n",
    "                                   horizontal_flip=True)\n",
    "\n",
    "validation_datagen = ImageDataGenerator(rescale=1./255)\n",
    "\n",
    "                                                  \n",
    "train_generator = train_datagen.flow_from_directory('C:/Users/Data/Train',\n",
    "                                                   target_size=(224,224),\n",
    "                                                   batch_size=32)\n",
    "\n",
    "validation_generator = validation_datagen.flow_from_directory('C:/Users/Data/Test',\n",
    "                                                             target_size=(224,224),\n",
    "                                                             batch_size=32)\n"
   ]
  },
  {
   "cell_type": "code",
   "execution_count": 5,
   "metadata": {},
   "outputs": [],
   "source": [
    "num_classes = 4\n",
    "epochs = 10\n",
    "input_shape = (224,224, 3)"
   ]
  },
  {
   "cell_type": "code",
   "execution_count": 6,
   "metadata": {},
   "outputs": [
    {
     "name": "stderr",
     "output_type": "stream",
     "text": [
      "WARNING: Logging before flag parsing goes to stderr.\n",
      "W1107 23:44:25.445337 10288 deprecation_wrapper.py:119] From c:\\users\\lord sanmilee\\appdata\\local\\programs\\python\\python36\\lib\\site-packages\\keras\\backend\\tensorflow_backend.py:4070: The name tf.nn.max_pool is deprecated. Please use tf.nn.max_pool2d instead.\n",
      "\n"
     ]
    },
    {
     "name": "stdout",
     "output_type": "stream",
     "text": [
      "Model: \"sequential_1\"\n",
      "_________________________________________________________________\n",
      "Layer (type)                 Output Shape              Param #   \n",
      "=================================================================\n",
      "conv2d_1 (Conv2D)            (None, 111, 111, 32)      896       \n",
      "_________________________________________________________________\n",
      "activation_1 (Activation)    (None, 111, 111, 32)      0         \n",
      "_________________________________________________________________\n",
      "max_pooling2d_1 (MaxPooling2 (None, 55, 55, 32)        0         \n",
      "_________________________________________________________________\n",
      "batch_normalization_1 (Batch (None, 55, 55, 32)        128       \n",
      "_________________________________________________________________\n",
      "conv2d_2 (Conv2D)            (None, 27, 27, 32)        9248      \n",
      "_________________________________________________________________\n",
      "activation_2 (Activation)    (None, 27, 27, 32)        0         \n",
      "_________________________________________________________________\n",
      "max_pooling2d_2 (MaxPooling2 (None, 13, 13, 32)        0         \n",
      "_________________________________________________________________\n",
      "batch_normalization_2 (Batch (None, 13, 13, 32)        128       \n",
      "_________________________________________________________________\n",
      "conv2d_3 (Conv2D)            (None, 6, 6, 64)          18496     \n",
      "_________________________________________________________________\n",
      "activation_3 (Activation)    (None, 6, 6, 64)          0         \n",
      "_________________________________________________________________\n",
      "batch_normalization_3 (Batch (None, 6, 6, 64)          256       \n",
      "_________________________________________________________________\n",
      "conv2d_4 (Conv2D)            (None, 2, 2, 32)          18464     \n",
      "_________________________________________________________________\n",
      "activation_4 (Activation)    (None, 2, 2, 32)          0         \n",
      "_________________________________________________________________\n",
      "batch_normalization_4 (Batch (None, 2, 2, 32)          128       \n",
      "_________________________________________________________________\n",
      "flatten_1 (Flatten)          (None, 128)               0         \n",
      "_________________________________________________________________\n",
      "dense_1 (Dense)              (None, 64)                8256      \n",
      "_________________________________________________________________\n",
      "activation_5 (Activation)    (None, 64)                0         \n",
      "_________________________________________________________________\n",
      "dropout_1 (Dropout)          (None, 64)                0         \n",
      "_________________________________________________________________\n",
      "batch_normalization_5 (Batch (None, 64)                256       \n",
      "_________________________________________________________________\n",
      "dense_2 (Dense)              (None, 64)                4160      \n",
      "_________________________________________________________________\n",
      "activation_6 (Activation)    (None, 64)                0         \n",
      "_________________________________________________________________\n",
      "dropout_2 (Dropout)          (None, 64)                0         \n",
      "_________________________________________________________________\n",
      "batch_normalization_6 (Batch (None, 64)                256       \n",
      "_________________________________________________________________\n",
      "dense_3 (Dense)              (None, 4)                 260       \n",
      "=================================================================\n",
      "Total params: 60,932\n",
      "Trainable params: 60,356\n",
      "Non-trainable params: 576\n",
      "_________________________________________________________________\n"
     ]
    }
   ],
   "source": [
    "model = Sequential()\n",
    "model.add(Conv2D(filters=32, input_shape=(input_shape), kernel_size=(3,3), strides=(2,2), padding='valid'))\n",
    "model.add(Activation('relu'))\n",
    "model.add(MaxPooling2D(pool_size=(2,2), strides=(2,2), padding='valid'))\n",
    "model.add(BatchNormalization())\n",
    "\n",
    "\n",
    "model.add(Conv2D(filters=32, kernel_size=(3,3), strides=(2,2), padding='valid'))\n",
    "model.add(Activation('relu'))\n",
    "model.add(MaxPooling2D(pool_size=(2,2), strides=(2,2), padding='valid'))\n",
    "model.add(BatchNormalization())\n",
    "\n",
    "model.add(Conv2D(filters=64, kernel_size=(3,3), strides=(2,2), padding='valid'))\n",
    "model.add(Activation('relu'))\n",
    "model.add(BatchNormalization())\n",
    "\n",
    "model.add(Conv2D(filters=32, kernel_size=(3,3), strides=(2,2), padding='valid'))\n",
    "model.add(Activation('relu'))\n",
    "model.add(BatchNormalization())\n",
    "\n",
    "\n",
    "model.add(Flatten())\n",
    "model.add(Dense(64))    \n",
    "model.add(Activation('relu'))\n",
    "model.add(Dropout(0.4))\n",
    "model.add(BatchNormalization())\n",
    " \n",
    "\n",
    "         \n",
    "model.add(Dense(64))\n",
    "model.add(Activation('relu'))\n",
    "model.add(Dropout(0.4))\n",
    "model.add(BatchNormalization())\n",
    "\n",
    "# Output Layer\n",
    "model.add(Dense(num_classes, activation='sigmoid'))\n",
    "#model.add(Activation('softmax'))\n",
    "\n",
    "\n",
    "model.summary()\n"
   ]
  },
  {
   "cell_type": "code",
   "execution_count": 7,
   "metadata": {},
   "outputs": [
    {
     "name": "stderr",
     "output_type": "stream",
     "text": [
      "W1107 23:44:29.472402 10288 deprecation.py:323] From c:\\users\\lord sanmilee\\appdata\\local\\programs\\python\\python36\\lib\\site-packages\\tensorflow\\python\\ops\\nn_impl.py:180: add_dispatch_support.<locals>.wrapper (from tensorflow.python.ops.array_ops) is deprecated and will be removed in a future version.\n",
      "Instructions for updating:\n",
      "Use tf.where in 2.0, which has the same broadcast rule as np.where\n"
     ]
    }
   ],
   "source": [
    "# Compile \n",
    "model.compile(loss='binary_crossentropy', optimizer='adam', metrics=['accuracy'])"
   ]
  },
  {
   "cell_type": "code",
   "execution_count": 8,
   "metadata": {
    "scrolled": true
   },
   "outputs": [
    {
     "name": "stderr",
     "output_type": "stream",
     "text": [
      "W1107 23:44:31.315886 10288 deprecation_wrapper.py:119] From c:\\users\\lord sanmilee\\appdata\\local\\programs\\python\\python36\\lib\\site-packages\\keras\\backend\\tensorflow_backend.py:422: The name tf.global_variables is deprecated. Please use tf.compat.v1.global_variables instead.\n",
      "\n"
     ]
    },
    {
     "name": "stdout",
     "output_type": "stream",
     "text": [
      "Epoch 1/10\n",
      "100/100 [==============================] - 37s 371ms/step - loss: 0.7062 - accuracy: 0.6198 - val_loss: 0.6040 - val_accuracy: 0.6254\n",
      "Epoch 2/10\n",
      "100/100 [==============================] - 35s 350ms/step - loss: 0.5380 - accuracy: 0.7364 - val_loss: 0.7139 - val_accuracy: 0.6254\n",
      "Epoch 3/10\n",
      "100/100 [==============================] - 36s 359ms/step - loss: 0.4607 - accuracy: 0.7912 - val_loss: 0.7096 - val_accuracy: 0.6308\n",
      "Epoch 4/10\n",
      "100/100 [==============================] - 36s 355ms/step - loss: 0.4137 - accuracy: 0.8175 - val_loss: 0.6331 - val_accuracy: 0.6650\n",
      "Epoch 5/10\n",
      "100/100 [==============================] - 35s 354ms/step - loss: 0.4042 - accuracy: 0.8250 - val_loss: 0.4749 - val_accuracy: 0.8059\n",
      "Epoch 6/10\n",
      "100/100 [==============================] - 35s 349ms/step - loss: 0.3768 - accuracy: 0.8351 - val_loss: 0.3497 - val_accuracy: 0.8322\n",
      "Epoch 7/10\n",
      "100/100 [==============================] - 35s 346ms/step - loss: 0.3709 - accuracy: 0.8406 - val_loss: 0.3163 - val_accuracy: 0.8455\n",
      "Epoch 8/10\n",
      "100/100 [==============================] - 35s 348ms/step - loss: 0.3610 - accuracy: 0.8502 - val_loss: 0.5316 - val_accuracy: 0.7806\n",
      "Epoch 9/10\n",
      "100/100 [==============================] - 35s 353ms/step - loss: 0.3520 - accuracy: 0.8500 - val_loss: 0.3342 - val_accuracy: 0.8667\n",
      "Epoch 10/10\n",
      "100/100 [==============================] - 35s 350ms/step - loss: 0.3355 - accuracy: 0.8609 - val_loss: 0.2714 - val_accuracy: 0.8786\n"
     ]
    }
   ],
   "source": [
    "# Train\n",
    "history = model.fit_generator(train_generator,\n",
    "                    steps_per_epoch=num_of_train_samples // batch_size,\n",
    "                    epochs=epochs,\n",
    "                    validation_data=validation_generator,\n",
    "                    validation_steps=num_of_test_samples // batch_size)\n"
   ]
  },
  {
   "cell_type": "code",
   "execution_count": null,
   "metadata": {},
   "outputs": [],
   "source": []
  }
 ],
 "metadata": {
  "kernelspec": {
   "display_name": "Python 3",
   "language": "python",
   "name": "python3"
  },
  "language_info": {
   "codemirror_mode": {
    "name": "ipython",
    "version": 3
   },
   "file_extension": ".py",
   "mimetype": "text/x-python",
   "name": "python",
   "nbconvert_exporter": "python",
   "pygments_lexer": "ipython3",
   "version": "3.6.7"
  }
 },
 "nbformat": 4,
 "nbformat_minor": 2
}
